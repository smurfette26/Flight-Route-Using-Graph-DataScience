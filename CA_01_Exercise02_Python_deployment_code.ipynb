{
 "cells": [
  {
   "cell_type": "code",
   "execution_count": null,
   "id": "b9b1f381",
   "metadata": {},
   "outputs": [],
   "source": [
    "!pip install py2neo pandas matplotlib"
   ]
  },
  {
   "cell_type": "code",
   "execution_count": 1,
   "id": "f76d575e",
   "metadata": {},
   "outputs": [],
   "source": [
    "from py2neo import Graph\n",
    "import pandas as pd\n",
    "\n",
    "import matplotlib\n",
    "import matplotlib.pyplot as plt\n",
    "\n",
    "plt.style.use('fivethirtyeight')\n",
    "pd.set_option('display.float_format', lambda x: '%.3f' % x)"
   ]
  },
  {
   "cell_type": "code",
   "execution_count": 24,
   "id": "50443287",
   "metadata": {},
   "outputs": [],
   "source": [
    "graph = Graph(\"bolt://localhost/7687\", auth=(\"neo4j\", \"1234567890\"))"
   ]
  },
  {
   "cell_type": "markdown",
   "id": "b944e956",
   "metadata": {},
   "source": [
    "### Available Nodes"
   ]
  },
  {
   "cell_type": "code",
   "execution_count": 25,
   "id": "005eb4a4",
   "metadata": {},
   "outputs": [
    {
     "data": {
      "text/plain": [
       "[{'nodes': [Node('Continent', constraints=[], indexes=[], name='Continent'),\n",
       "   Node('Airport', constraints=[], indexes=[], name='Airport'),\n",
       "   Node('Country', constraints=[], indexes=[], name='Country')],\n",
       "  'relationships': [HAS_ROUTE(Node(), Node()),\n",
       "   IN_COUNTRY(Node(), Node()),\n",
       "   ON_CONTINENT(Node(), Node()),\n",
       "   ON_CONTINENT(Node(), Node())]}]"
      ]
     },
     "execution_count": 25,
     "metadata": {},
     "output_type": "execute_result"
    }
   ],
   "source": [
    "graph.run(\"CALL db.schema.visualization()\").data()"
   ]
  },
  {
   "cell_type": "markdown",
   "id": "2184ba39",
   "metadata": {},
   "source": [
    "### Nodes for each of labels"
   ]
  },
  {
   "cell_type": "code",
   "execution_count": 26,
   "id": "84a7d67a",
   "metadata": {},
   "outputs": [
    {
     "data": {
      "text/html": [
       "<div>\n",
       "<style scoped>\n",
       "    .dataframe tbody tr th:only-of-type {\n",
       "        vertical-align: middle;\n",
       "    }\n",
       "\n",
       "    .dataframe tbody tr th {\n",
       "        vertical-align: top;\n",
       "    }\n",
       "\n",
       "    .dataframe thead th {\n",
       "        text-align: right;\n",
       "    }\n",
       "</style>\n",
       "<table border=\"1\" class=\"dataframe\">\n",
       "  <thead>\n",
       "    <tr style=\"text-align: right;\">\n",
       "      <th></th>\n",
       "      <th>label</th>\n",
       "      <th>count</th>\n",
       "    </tr>\n",
       "  </thead>\n",
       "  <tbody>\n",
       "    <tr>\n",
       "      <th>2</th>\n",
       "      <td>Continent</td>\n",
       "      <td>8</td>\n",
       "    </tr>\n",
       "    <tr>\n",
       "      <th>1</th>\n",
       "      <td>Country</td>\n",
       "      <td>22</td>\n",
       "    </tr>\n",
       "    <tr>\n",
       "      <th>0</th>\n",
       "      <td>Airport</td>\n",
       "      <td>30</td>\n",
       "    </tr>\n",
       "  </tbody>\n",
       "</table>\n",
       "</div>"
      ],
      "text/plain": [
       "       label  count\n",
       "2  Continent      8\n",
       "1    Country     22\n",
       "0    Airport     30"
      ]
     },
     "execution_count": 26,
     "metadata": {},
     "output_type": "execute_result"
    }
   ],
   "source": [
    "result = {\"label\": [], \"count\": []}\n",
    "for label in graph.run(\"CALL db.labels()\").to_series():\n",
    "    query = f\"MATCH (:`{label}`) RETURN count(*) as count\"\n",
    "    count = graph.run(query).to_data_frame().iloc[0]['count']\n",
    "    result[\"label\"].append(label)\n",
    "    result[\"count\"].append(count)\n",
    "nodes_df = pd.DataFrame(data=result)\n",
    "nodes_df.sort_values(\"count\")"
   ]
  },
  {
   "cell_type": "markdown",
   "id": "886750a3",
   "metadata": {},
   "source": [
    "### visualizing counts using matplotlib"
   ]
  },
  {
   "cell_type": "code",
   "execution_count": 8,
   "id": "34dda3ee",
   "metadata": {},
   "outputs": [
    {
     "data": {
      "image/png": "[encoded data removed]",
      "text/plain": [
       "<Figure size 640x480 with 1 Axes>"
      ]
     },
     "metadata": {},
     "output_type": "display_data"
    }
   ],
   "source": [
    "nodes_df.plot(kind='bar', x='label', y='count', legend=None, title=\"Node Cardinalities\")\n",
    "plt.yscale(\"log\")\n",
    "plt.xticks(rotation=45)\n",
    "plt.tight_layout()\n",
    "plt.show()"
   ]
  },
  {
   "cell_type": "code",
   "execution_count": null,
   "id": "5340e73f",
   "metadata": {},
   "outputs": [],
   "source": []
  },
  {
   "cell_type": "markdown",
   "id": "01375be4",
   "metadata": {},
   "source": [
    "### Types of relationships"
   ]
  },
  {
   "cell_type": "code",
   "execution_count": 10,
   "id": "81efb939",
   "metadata": {},
   "outputs": [
    {
     "data": {
      "text/html": [
       "<div>\n",
       "<style scoped>\n",
       "    .dataframe tbody tr th:only-of-type {\n",
       "        vertical-align: middle;\n",
       "    }\n",
       "\n",
       "    .dataframe tbody tr th {\n",
       "        vertical-align: top;\n",
       "    }\n",
       "\n",
       "    .dataframe thead th {\n",
       "        text-align: right;\n",
       "    }\n",
       "</style>\n",
       "<table border=\"1\" class=\"dataframe\">\n",
       "  <thead>\n",
       "    <tr style=\"text-align: right;\">\n",
       "      <th></th>\n",
       "      <th>relType</th>\n",
       "      <th>count</th>\n",
       "    </tr>\n",
       "  </thead>\n",
       "  <tbody>\n",
       "    <tr>\n",
       "      <th>1</th>\n",
       "      <td>IN_COUNTRY</td>\n",
       "      <td>60</td>\n",
       "    </tr>\n",
       "    <tr>\n",
       "      <th>2</th>\n",
       "      <td>ON_CONTINENT</td>\n",
       "      <td>104</td>\n",
       "    </tr>\n",
       "    <tr>\n",
       "      <th>0</th>\n",
       "      <td>HAS_ROUTE</td>\n",
       "      <td>480</td>\n",
       "    </tr>\n",
       "  </tbody>\n",
       "</table>\n",
       "</div>"
      ],
      "text/plain": [
       "        relType  count\n",
       "1    IN_COUNTRY     60\n",
       "2  ON_CONTINENT    104\n",
       "0     HAS_ROUTE    480"
      ]
     },
     "execution_count": 10,
     "metadata": {},
     "output_type": "execute_result"
    }
   ],
   "source": [
    "result = {\"relType\": [], \"count\": []}\n",
    "for relationship_type in graph.run(\"CALL db.relationshipTypes()\").to_series():\n",
    "    query = f\"MATCH ()-[:`{relationship_type}`]->() RETURN count(*) as count\"\n",
    "    count = graph.run(query).to_data_frame().iloc[0]['count']\n",
    "    result[\"relType\"].append(relationship_type)\n",
    "    result[\"count\"].append(count)\n",
    "rels_df = pd.DataFrame(data=result)\n",
    "rels_df.sort_values(\"count\")"
   ]
  },
  {
   "cell_type": "code",
   "execution_count": null,
   "id": "05a827e8",
   "metadata": {},
   "outputs": [],
   "source": []
  },
  {
   "cell_type": "code",
   "execution_count": 12,
   "id": "8a6f7bb2",
   "metadata": {},
   "outputs": [
    {
     "data": {
      "image/png": "[encoded data removed]",
      "text/plain": [
       "<Figure size 640x480 with 1 Axes>"
      ]
     },
     "metadata": {},
     "output_type": "display_data"
    }
   ],
   "source": [
    "rels_df.plot(kind='bar', x='relType', y='count', legend=None, title=\"Relationship Cardinalities\")\n",
    "plt.xticks(rotation=45)\n",
    "plt.tight_layout()\n",
    "plt.show()"
   ]
  },
  {
   "cell_type": "code",
   "execution_count": 19,
   "id": "1efd21fc",
   "metadata": {},
   "outputs": [
    {
     "data": {
      "text/html": [
       "<div>\n",
       "<style scoped>\n",
       "    .dataframe tbody tr th:only-of-type {\n",
       "        vertical-align: middle;\n",
       "    }\n",
       "\n",
       "    .dataframe tbody tr th {\n",
       "        vertical-align: top;\n",
       "    }\n",
       "\n",
       "    .dataframe thead th {\n",
       "        text-align: right;\n",
       "    }\n",
       "</style>\n",
       "<table border=\"1\" class=\"dataframe\">\n",
       "  <thead>\n",
       "    <tr style=\"text-align: right;\">\n",
       "      <th></th>\n",
       "      <th>sourceAirport</th>\n",
       "      <th>destinationAirport</th>\n",
       "    </tr>\n",
       "  </thead>\n",
       "  <tbody>\n",
       "    <tr>\n",
       "      <th>0</th>\n",
       "      <td>None</td>\n",
       "      <td>None</td>\n",
       "    </tr>\n",
       "    <tr>\n",
       "      <th>1</th>\n",
       "      <td>None</td>\n",
       "      <td>None</td>\n",
       "    </tr>\n",
       "    <tr>\n",
       "      <th>2</th>\n",
       "      <td>None</td>\n",
       "      <td>None</td>\n",
       "    </tr>\n",
       "    <tr>\n",
       "      <th>3</th>\n",
       "      <td>None</td>\n",
       "      <td>None</td>\n",
       "    </tr>\n",
       "    <tr>\n",
       "      <th>4</th>\n",
       "      <td>None</td>\n",
       "      <td>None</td>\n",
       "    </tr>\n",
       "    <tr>\n",
       "      <th>5</th>\n",
       "      <td>None</td>\n",
       "      <td>None</td>\n",
       "    </tr>\n",
       "    <tr>\n",
       "      <th>6</th>\n",
       "      <td>None</td>\n",
       "      <td>None</td>\n",
       "    </tr>\n",
       "    <tr>\n",
       "      <th>7</th>\n",
       "      <td>None</td>\n",
       "      <td>None</td>\n",
       "    </tr>\n",
       "    <tr>\n",
       "      <th>8</th>\n",
       "      <td>None</td>\n",
       "      <td>None</td>\n",
       "    </tr>\n",
       "    <tr>\n",
       "      <th>9</th>\n",
       "      <td>None</td>\n",
       "      <td>None</td>\n",
       "    </tr>\n",
       "    <tr>\n",
       "      <th>10</th>\n",
       "      <td>None</td>\n",
       "      <td>None</td>\n",
       "    </tr>\n",
       "    <tr>\n",
       "      <th>11</th>\n",
       "      <td>None</td>\n",
       "      <td>None</td>\n",
       "    </tr>\n",
       "    <tr>\n",
       "      <th>12</th>\n",
       "      <td>None</td>\n",
       "      <td>None</td>\n",
       "    </tr>\n",
       "    <tr>\n",
       "      <th>13</th>\n",
       "      <td>None</td>\n",
       "      <td>None</td>\n",
       "    </tr>\n",
       "    <tr>\n",
       "      <th>14</th>\n",
       "      <td>None</td>\n",
       "      <td>None</td>\n",
       "    </tr>\n",
       "    <tr>\n",
       "      <th>15</th>\n",
       "      <td>None</td>\n",
       "      <td>None</td>\n",
       "    </tr>\n",
       "    <tr>\n",
       "      <th>16</th>\n",
       "      <td>None</td>\n",
       "      <td>None</td>\n",
       "    </tr>\n",
       "    <tr>\n",
       "      <th>17</th>\n",
       "      <td>None</td>\n",
       "      <td>None</td>\n",
       "    </tr>\n",
       "    <tr>\n",
       "      <th>18</th>\n",
       "      <td>None</td>\n",
       "      <td>None</td>\n",
       "    </tr>\n",
       "    <tr>\n",
       "      <th>19</th>\n",
       "      <td>None</td>\n",
       "      <td>None</td>\n",
       "    </tr>\n",
       "    <tr>\n",
       "      <th>20</th>\n",
       "      <td>None</td>\n",
       "      <td>None</td>\n",
       "    </tr>\n",
       "    <tr>\n",
       "      <th>21</th>\n",
       "      <td>None</td>\n",
       "      <td>None</td>\n",
       "    </tr>\n",
       "    <tr>\n",
       "      <th>22</th>\n",
       "      <td>None</td>\n",
       "      <td>None</td>\n",
       "    </tr>\n",
       "    <tr>\n",
       "      <th>23</th>\n",
       "      <td>None</td>\n",
       "      <td>None</td>\n",
       "    </tr>\n",
       "    <tr>\n",
       "      <th>24</th>\n",
       "      <td>None</td>\n",
       "      <td>None</td>\n",
       "    </tr>\n",
       "  </tbody>\n",
       "</table>\n",
       "</div>"
      ],
      "text/plain": [
       "   sourceAirport destinationAirport\n",
       "0           None               None\n",
       "1           None               None\n",
       "2           None               None\n",
       "3           None               None\n",
       "4           None               None\n",
       "5           None               None\n",
       "6           None               None\n",
       "7           None               None\n",
       "8           None               None\n",
       "9           None               None\n",
       "10          None               None\n",
       "11          None               None\n",
       "12          None               None\n",
       "13          None               None\n",
       "14          None               None\n",
       "15          None               None\n",
       "16          None               None\n",
       "17          None               None\n",
       "18          None               None\n",
       "19          None               None\n",
       "20          None               None\n",
       "21          None               None\n",
       "22          None               None\n",
       "23          None               None\n",
       "24          None               None"
      ]
     },
     "execution_count": 19,
     "metadata": {},
     "output_type": "execute_result"
    }
   ],
   "source": [
    "exploratory_query = \"\"\"\n",
    "MATCH (sourceAirport:Airport)-[:HAS_ROUTE]->(destinationAirport:Airport)\n",
    "RETURN sourceAirport.name AS sourceAirport, destinationAirport.name AS destinationAirport\n",
    "ORDER BY rand()\n",
    "LIMIT 25\n",
    "\n",
    "\"\"\"\n",
    "\n",
    "graph.run(exploratory_query).to_data_frame()"
   ]
  },
  {
   "cell_type": "code",
   "execution_count": 43,
   "id": "9dc7cdd2",
   "metadata": {},
   "outputs": [
    {
     "data": {
      "text/html": [
       "<table><tr><th>route</th><th>distance</th></tr><tr><td style=\"text-align:left\">[&#039;Los Angeles International Airport&#039;, &#039;Istanbul Airport&#039;, &#039;London City Airport&#039;]</td><td style=\"text-align:right\">2</td></tr></table>"
      ],
      "text/plain": [
       " route                                                                            | distance \n",
       "----------------------------------------------------------------------------------|----------\n",
       " ['Los Angeles International Airport', 'Istanbul Airport', 'London City Airport'] |        2 "
      ]
     },
     "execution_count": 43,
     "metadata": {},
     "output_type": "execute_result"
    }
   ],
   "source": [
    "exploratory_query = \"\"\"\n",
    "MATCH p = shortestPath((start:Airport {desc: 'Los Angeles International Airport'})-[:HAS_ROUTE*]->(end:Airport {desc: \"London City Airport\"}))\n",
    "RETURN [node in nodes(p) | node.desc] AS route, length(p) AS distance\n",
    "ORDER BY distance ASC\n",
    "LIMIT 1\n",
    "\n",
    "\"\"\"\n",
    "\n",
    "graph.run(exploratory_query)"
   ]
  },
  {
   "cell_type": "code",
   "execution_count": 42,
   "id": "4124bec2",
   "metadata": {},
   "outputs": [
    {
     "name": "stdout",
     "output_type": "stream",
     "text": [
      "[{'airportDescriptions': ['Mumbai International Airport', 'John F. Kennedy International Airport', 'Chicago OHare International Airport', 'Harry Reid International Airport', 'Los Angeles International Airport', 'Lester B. Pearson International Airport', 'London City Airport', 'Adolfo Suárez Madrid–Barajas Airport', 'Paris-Charles de Gaulle Airport', 'Athens International Airport ', 'Leonardo da Vinci Fiumicino International Airport', 'Istanbul Airport', 'Changi Airport', 'Sydney Kingsford Smith Airport', 'Tullamarine Airport', 'Mumbai International Airport', 'John F. Kennedy International Airport', 'Chicago OHare International Airport', 'Harry Reid International Airport', 'Los Angeles International Airport', 'Lester B. Pearson International Airport', 'London City Airport', 'Adolfo Suárez Madrid–Barajas Airport', 'Paris-Charles de Gaulle Airport', 'Athens International Airport ', 'Leonardo da Vinci Fiumicino International Airport', 'Istanbul Airport', 'Changi Airport', 'Sydney Kingsford Smith Airport', 'Tullamarine Airport']}]\n"
     ]
    }
   ],
   "source": [
    "query = \"\"\"\n",
    "MATCH (a:Airport)\n",
    "RETURN COLLECT(a.desc) AS airportDescriptions\n",
    "\"\"\"\n",
    "\n",
    "result=graph.run(query)\n",
    "print(result.data())"
   ]
  },
  {
   "cell_type": "code",
   "execution_count": 34,
   "id": "72ba437d",
   "metadata": {},
   "outputs": [
    {
     "data": {
      "text/html": [
       "<table><tr><th>a</th></tr><tr><td style=\"text-align:left\">(_0:Airport {PageRank: 1.4094754151468931, betweenness: 63.33001642208617, city: &#039;Mumbai&#039;, code: &#039;Mum&#039;, continent: &#039;Asia&#039;, country: &#039;India&#039;, degreeCentrality: 49.0, desc: &#039;Mumbai International Airport&#039;, elev: 1100, icao: &#039;BOM&#039;, id: &#039;1&#039;, longest: 3448, region: &#039;india&#039;, runways: 2})</td></tr><tr><td style=\"text-align:left\">(_1:Airport {PageRank: 1.0364766780987325, betweenness: 21.87696775815926, city: &#039;New York&#039;, code: &#039;NYK&#039;, continent: &#039;North America&#039;, country: &#039;United States of America&#039;, degreeCentrality: 35.0, desc: &#039;John F. Kennedy International Airport&#039;, elev: 2000, icao: &#039;KJFK&#039;, id: &#039;2&#039;, longest: 14511, region: &#039;USA&#039;, runways: 4})</td></tr><tr><td style=\"text-align:left\">(_2:Airport {PageRank: 1.4551010332740304, betweenness: 38.1410510134008, city: &#039;Chicago&#039;, code: &#039;ORD&#039;, continent: &#039;North America&#039;, country: &#039;United States of America&#039;, degreeCentrality: 52.0, desc: &#039;Chicago OHare International Airport&#039;, elev: 1126, icao: &#039;KORD&#039;, id: &#039;3&#039;, longest: 3436, region: &#039;USA&#039;, runways: 8})</td></tr></table>"
      ],
      "text/plain": [
       " a                                                                                                                                                                                                                                                                                                                                \n",
       "----------------------------------------------------------------------------------------------------------------------------------------------------------------------------------------------------------------------------------------------------------------------------------------------------------------------------------\n",
       " (_0:Airport {PageRank: 1.4094754151468931, betweenness: 63.33001642208617, city: 'Mumbai', code: 'Mum', continent: 'Asia', country: 'India', degreeCentrality: 49.0, desc: 'Mumbai International Airport', elev: 1100, icao: 'BOM', id: '1', longest: 3448, region: 'india', runways: 2})                                        \n",
       " (_1:Airport {PageRank: 1.0364766780987325, betweenness: 21.87696775815926, city: 'New York', code: 'NYK', continent: 'North America', country: 'United States of America', degreeCentrality: 35.0, desc: 'John F. Kennedy International Airport', elev: 2000, icao: 'KJFK', id: '2', longest: 14511, region: 'USA', runways: 4}) \n",
       " (_2:Airport {PageRank: 1.4551010332740304, betweenness: 38.1410510134008, city: 'Chicago', code: 'ORD', continent: 'North America', country: 'United States of America', degreeCentrality: 52.0, desc: 'Chicago OHare International Airport', elev: 1126, icao: 'KORD', id: '3', longest: 3436, region: 'USA', runways: 8})      "
      ]
     },
     "execution_count": 34,
     "metadata": {},
     "output_type": "execute_result"
    }
   ],
   "source": [
    "query = \"\"\"\n",
    "MATCH (a:Airport)\n",
    "RETURN a\n",
    "\"\"\"\n",
    "\n",
    "graph.run(query)"
   ]
  },
  {
   "cell_type": "code",
   "execution_count": 37,
   "id": "3ee11f47",
   "metadata": {},
   "outputs": [
    {
     "data": {
      "text/html": [
       "<table><tr><th>name</th><th>city</th><th>country</th></tr><tr><td style=\"text-align:right\">null</td><td style=\"text-align:left\">Mumbai</td><td style=\"text-align:left\">India</td></tr><tr><td style=\"text-align:right\">null</td><td style=\"text-align:left\">New York</td><td style=\"text-align:left\">United States of America</td></tr><tr><td style=\"text-align:right\">null</td><td style=\"text-align:left\">Chicago</td><td style=\"text-align:left\">United States of America</td></tr></table>"
      ],
      "text/plain": [
       " name | city     | country                  \n",
       "------|----------|--------------------------\n",
       " null | Mumbai   | India                    \n",
       " null | New York | United States of America \n",
       " null | Chicago  | United States of America "
      ]
     },
     "execution_count": 37,
     "metadata": {},
     "output_type": "execute_result"
    }
   ],
   "source": [
    "query = \"\"\"\n",
    "    MATCH (a:Airport)\n",
    "    RETURN a.name as name, a.city as city, a.country as country\n",
    "\n",
    "\"\"\"\n",
    "\n",
    "graph.run(query)"
   ]
  },
  {
   "cell_type": "code",
   "execution_count": null,
   "id": "73737b2a",
   "metadata": {},
   "outputs": [],
   "source": []
  }
 ],
 "metadata": {
  "kernelspec": {
   "display_name": "Python 3 (ipykernel)",
   "language": "python",
   "name": "python3"
  },
  "language_info": {
   "codemirror_mode": {
    "name": "ipython",
    "version": 3
   },
   "file_extension": ".py",
   "mimetype": "text/x-python",
   "name": "python",
   "nbconvert_exporter": "python",
   "pygments_lexer": "ipython3",
   "version": "3.11.5"
  }
 },
 "nbformat": 4,
 "nbformat_minor": 5
}
